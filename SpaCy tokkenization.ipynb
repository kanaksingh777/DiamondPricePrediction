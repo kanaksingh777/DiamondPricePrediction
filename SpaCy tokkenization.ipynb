{
 "cells": [
  {
   "cell_type": "code",
   "execution_count": 2,
   "id": "2a91d7da",
   "metadata": {},
   "outputs": [],
   "source": [
    "import spacy"
   ]
  },
  {
   "cell_type": "code",
   "execution_count": 3,
   "id": "42a80a34",
   "metadata": {},
   "outputs": [],
   "source": [
    "nlp = spacy.blank('en')\n",
    "#better to use spacy.load(\"en_core_web_sm\") pipepline"
   ]
  },
  {
   "cell_type": "code",
   "execution_count": 8,
   "id": "346f30ba",
   "metadata": {},
   "outputs": [],
   "source": [
    "doc = nlp(\"Dr. string loves pav bhaji of mumbai. Hulk loves chat of delhi\")\n",
    "doc1 = nlp(\"let's go to mumbai\")"
   ]
  },
  {
   "cell_type": "code",
   "execution_count": 9,
   "id": "daf68c9c",
   "metadata": {},
   "outputs": [
    {
     "name": "stdout",
     "output_type": "stream",
     "text": [
      "let\n",
      "'s\n",
      "go\n",
      "to\n",
      "mumbai\n"
     ]
    }
   ],
   "source": [
    "for token in doc1:\n",
    "    print(token)"
   ]
  },
  {
   "cell_type": "code",
   "execution_count": 13,
   "id": "4a200c10",
   "metadata": {},
   "outputs": [],
   "source": [
    "nlp2= spacy.load(\"en_core_web_sm\")"
   ]
  },
  {
   "cell_type": "code",
   "execution_count": 17,
   "id": "946bc8aa",
   "metadata": {},
   "outputs": [],
   "source": [
    "doc1 = nlp2(''' \"let's go to mubai\"''')\n"
   ]
  },
  {
   "cell_type": "code",
   "execution_count": 18,
   "id": "ebb7f4b4",
   "metadata": {},
   "outputs": [
    {
     "name": "stdout",
     "output_type": "stream",
     "text": [
      " \n",
      "\"\n",
      "let\n",
      "'s\n",
      "go\n",
      "to\n",
      "mubai\n",
      "\"\n"
     ]
    }
   ],
   "source": [
    "for words in doc1:\n",
    "    print(words)"
   ]
  },
  {
   "cell_type": "code",
   "execution_count": 26,
   "id": "21c64905",
   "metadata": {},
   "outputs": [],
   "source": [
    "token0  = doc1[0]"
   ]
  },
  {
   "cell_type": "code",
   "execution_count": 27,
   "id": "b5891333",
   "metadata": {},
   "outputs": [
    {
     "data": {
      "text/plain": [
       "['_',\n",
       " '__bytes__',\n",
       " '__class__',\n",
       " '__delattr__',\n",
       " '__dir__',\n",
       " '__doc__',\n",
       " '__eq__',\n",
       " '__format__',\n",
       " '__ge__',\n",
       " '__getattribute__',\n",
       " '__gt__',\n",
       " '__hash__',\n",
       " '__init__',\n",
       " '__init_subclass__',\n",
       " '__le__',\n",
       " '__len__',\n",
       " '__lt__',\n",
       " '__ne__',\n",
       " '__new__',\n",
       " '__pyx_vtable__',\n",
       " '__reduce__',\n",
       " '__reduce_ex__',\n",
       " '__repr__',\n",
       " '__setattr__',\n",
       " '__sizeof__',\n",
       " '__str__',\n",
       " '__subclasshook__',\n",
       " '__unicode__',\n",
       " 'ancestors',\n",
       " 'check_flag',\n",
       " 'children',\n",
       " 'cluster',\n",
       " 'conjuncts',\n",
       " 'dep',\n",
       " 'dep_',\n",
       " 'doc',\n",
       " 'ent_id',\n",
       " 'ent_id_',\n",
       " 'ent_iob',\n",
       " 'ent_iob_',\n",
       " 'ent_kb_id',\n",
       " 'ent_kb_id_',\n",
       " 'ent_type',\n",
       " 'ent_type_',\n",
       " 'get_extension',\n",
       " 'has_dep',\n",
       " 'has_extension',\n",
       " 'has_head',\n",
       " 'has_morph',\n",
       " 'has_vector',\n",
       " 'head',\n",
       " 'i',\n",
       " 'idx',\n",
       " 'iob_strings',\n",
       " 'is_alpha',\n",
       " 'is_ancestor',\n",
       " 'is_ascii',\n",
       " 'is_bracket',\n",
       " 'is_currency',\n",
       " 'is_digit',\n",
       " 'is_left_punct',\n",
       " 'is_lower',\n",
       " 'is_oov',\n",
       " 'is_punct',\n",
       " 'is_quote',\n",
       " 'is_right_punct',\n",
       " 'is_sent_end',\n",
       " 'is_sent_start',\n",
       " 'is_space',\n",
       " 'is_stop',\n",
       " 'is_title',\n",
       " 'is_upper',\n",
       " 'lang',\n",
       " 'lang_',\n",
       " 'left_edge',\n",
       " 'lefts',\n",
       " 'lemma',\n",
       " 'lemma_',\n",
       " 'lex',\n",
       " 'lex_id',\n",
       " 'like_email',\n",
       " 'like_num',\n",
       " 'like_url',\n",
       " 'lower',\n",
       " 'lower_',\n",
       " 'morph',\n",
       " 'n_lefts',\n",
       " 'n_rights',\n",
       " 'nbor',\n",
       " 'norm',\n",
       " 'norm_',\n",
       " 'orth',\n",
       " 'orth_',\n",
       " 'pos',\n",
       " 'pos_',\n",
       " 'prefix',\n",
       " 'prefix_',\n",
       " 'prob',\n",
       " 'rank',\n",
       " 'remove_extension',\n",
       " 'right_edge',\n",
       " 'rights',\n",
       " 'sent',\n",
       " 'sent_start',\n",
       " 'sentiment',\n",
       " 'set_extension',\n",
       " 'set_morph',\n",
       " 'shape',\n",
       " 'shape_',\n",
       " 'similarity',\n",
       " 'subtree',\n",
       " 'suffix',\n",
       " 'suffix_',\n",
       " 'tag',\n",
       " 'tag_',\n",
       " 'tensor',\n",
       " 'text',\n",
       " 'text_with_ws',\n",
       " 'vector',\n",
       " 'vector_norm',\n",
       " 'vocab',\n",
       " 'whitespace_']"
      ]
     },
     "execution_count": 27,
     "metadata": {},
     "output_type": "execute_result"
    }
   ],
   "source": [
    "dir(token0)"
   ]
  },
  {
   "cell_type": "code",
   "execution_count": 29,
   "id": "0fde1c00",
   "metadata": {},
   "outputs": [
    {
     "data": {
      "text/plain": [
       "False"
      ]
     },
     "execution_count": 29,
     "metadata": {},
     "output_type": "execute_result"
    }
   ],
   "source": [
    "token0.is_lower"
   ]
  },
  {
   "cell_type": "code",
   "execution_count": 30,
   "id": "26a1afcf",
   "metadata": {},
   "outputs": [
    {
     "data": {
      "text/plain": [
       "spacy.tokens.token.Token"
      ]
     },
     "execution_count": 30,
     "metadata": {},
     "output_type": "execute_result"
    }
   ],
   "source": [
    "type(token0)"
   ]
  },
  {
   "cell_type": "code",
   "execution_count": 31,
   "id": "4e613695",
   "metadata": {},
   "outputs": [
    {
     "data": {
      "text/plain": [
       "False"
      ]
     },
     "execution_count": 31,
     "metadata": {},
     "output_type": "execute_result"
    }
   ],
   "source": [
    "token0.like_email"
   ]
  },
  {
   "cell_type": "code",
   "execution_count": 34,
   "id": "0e7ef5e0",
   "metadata": {},
   "outputs": [
    {
     "name": "stdout",
     "output_type": "stream",
     "text": [
      "Dr. ==> index: 0 is_alpha: False is_punct: False like_num: False is_currency: False\n",
      "string ==> index: 1 is_alpha: True is_punct: False like_num: False is_currency: False\n",
      "loves ==> index: 2 is_alpha: True is_punct: False like_num: False is_currency: False\n",
      "pav ==> index: 3 is_alpha: True is_punct: False like_num: False is_currency: False\n",
      "bhaji ==> index: 4 is_alpha: True is_punct: False like_num: False is_currency: False\n",
      "of ==> index: 5 is_alpha: True is_punct: False like_num: False is_currency: False\n",
      "mumbai ==> index: 6 is_alpha: True is_punct: False like_num: False is_currency: False\n",
      ". ==> index: 7 is_alpha: False is_punct: True like_num: False is_currency: False\n",
      "Hulk ==> index: 8 is_alpha: True is_punct: False like_num: False is_currency: False\n",
      "loves ==> index: 9 is_alpha: True is_punct: False like_num: False is_currency: False\n",
      "chat ==> index: 10 is_alpha: True is_punct: False like_num: False is_currency: False\n",
      "of ==> index: 11 is_alpha: True is_punct: False like_num: False is_currency: False\n",
      "delhi ==> index: 12 is_alpha: True is_punct: False like_num: False is_currency: False\n"
     ]
    }
   ],
   "source": [
    "for token in doc:\n",
    "    print(token,\"==>\",\"index:\",token.i,\n",
    "          \"is_alpha:\",token.is_alpha,\n",
    "         \"is_punct:\",token.is_punct,\n",
    "         \"like_num:\",token.like_num,\n",
    "         \"is_currency:\",token.is_currency)"
   ]
  },
  {
   "cell_type": "code",
   "execution_count": 10,
   "id": "dedc339d",
   "metadata": {},
   "outputs": [],
   "source": [
    "text = ['Dayton high school, 8th grade students information\\n',\n",
    " '==================================================\\n',\n",
    " '\\n',\n",
    " 'Name\\tbirth day   \\temail\\n',\n",
    " '-----\\t------------\\t------\\n',\n",
    " 'Virat   5 June, 1882    virat@kohli.com\\n',\n",
    " 'Maria\\t12 April, 2001  maria@sharapova.com\\n',\n",
    " 'Serena  24 June, 1998   serena@williams.com \\n',\n",
    " 'Joe      1 May, 1997    joe@root.com\\n',\n",
    " '\\n',\n",
    " '\\n',\n",
    " '\\n']\n"
   ]
  },
  {
   "cell_type": "code",
   "execution_count": 11,
   "id": "103efe78",
   "metadata": {},
   "outputs": [],
   "source": [
    "text = ' '.join(text)"
   ]
  },
  {
   "cell_type": "code",
   "execution_count": 12,
   "id": "a9cfbc58",
   "metadata": {},
   "outputs": [
    {
     "data": {
      "text/plain": [
       "'Dayton high school, 8th grade students information\\n ==================================================\\n \\n Name\\tbirth day   \\temail\\n -----\\t------------\\t------\\n Virat   5 June, 1882    virat@kohli.com\\n Maria\\t12 April, 2001  maria@sharapova.com\\n Serena  24 June, 1998   serena@williams.com \\n Joe      1 May, 1997    joe@root.com\\n \\n \\n \\n'"
      ]
     },
     "execution_count": 12,
     "metadata": {},
     "output_type": "execute_result"
    }
   ],
   "source": [
    "text "
   ]
  },
  {
   "cell_type": "code",
   "execution_count": 38,
   "id": "373fbf21",
   "metadata": {},
   "outputs": [],
   "source": [
    "doc = nlp(text)"
   ]
  },
  {
   "cell_type": "code",
   "execution_count": 41,
   "id": "c95f9345",
   "metadata": {},
   "outputs": [],
   "source": [
    "token0 = doc[0]"
   ]
  },
  {
   "cell_type": "code",
   "execution_count": 44,
   "id": "ad6ab558",
   "metadata": {},
   "outputs": [],
   "source": [
    "token0.like_email\n",
    "emails = []"
   ]
  },
  {
   "cell_type": "code",
   "execution_count": 45,
   "id": "c5acd473",
   "metadata": {},
   "outputs": [],
   "source": [
    "for token in doc:\n",
    "    if token.like_email:\n",
    "        emails.append(token.text)\n",
    "    \n",
    "    "
   ]
  },
  {
   "cell_type": "code",
   "execution_count": 46,
   "id": "62d66dec",
   "metadata": {},
   "outputs": [
    {
     "data": {
      "text/plain": [
       "['virat@kohli.com',\n",
       " 'maria@sharapova.com',\n",
       " 'serena@williams.com',\n",
       " 'joe@root.com']"
      ]
     },
     "execution_count": 46,
     "metadata": {},
     "output_type": "execute_result"
    }
   ],
   "source": [
    "emails"
   ]
  },
  {
   "cell_type": "code",
   "execution_count": 4,
   "id": "ad47a1ad",
   "metadata": {},
   "outputs": [],
   "source": [
    "import re "
   ]
  },
  {
   "cell_type": "code",
   "execution_count": 8,
   "id": "8a339765",
   "metadata": {},
   "outputs": [],
   "source": [
    "pattern = \"^[a-zA-Z0-9+_.-]+@[a-zA-Z0-9.-]+$\""
   ]
  },
  {
   "cell_type": "code",
   "execution_count": 16,
   "id": "045c697c",
   "metadata": {},
   "outputs": [],
   "source": [
    "match = re.findall(pattern, text , flags= re.IGNORECASE)"
   ]
  },
  {
   "cell_type": "code",
   "execution_count": 14,
   "id": "3484d5fe",
   "metadata": {},
   "outputs": [
    {
     "data": {
      "text/plain": [
       "[]"
      ]
     },
     "execution_count": 14,
     "metadata": {},
     "output_type": "execute_result"
    }
   ],
   "source": [
    "match "
   ]
  },
  {
   "cell_type": "code",
   "execution_count": null,
   "id": "971979c8",
   "metadata": {},
   "outputs": [],
   "source": []
  }
 ],
 "metadata": {
  "kernelspec": {
   "display_name": "Python 3 (ipykernel)",
   "language": "python",
   "name": "python3"
  },
  "language_info": {
   "codemirror_mode": {
    "name": "ipython",
    "version": 3
   },
   "file_extension": ".py",
   "mimetype": "text/x-python",
   "name": "python",
   "nbconvert_exporter": "python",
   "pygments_lexer": "ipython3",
   "version": "3.9.13"
  }
 },
 "nbformat": 4,
 "nbformat_minor": 5
}
