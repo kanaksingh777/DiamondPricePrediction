{
 "cells": [
  {
   "cell_type": "code",
   "execution_count": 1,
   "id": "9f3de1bf",
   "metadata": {},
   "outputs": [],
   "source": [
    "import spacy "
   ]
  },
  {
   "cell_type": "code",
   "execution_count": 2,
   "id": "1a552545",
   "metadata": {},
   "outputs": [],
   "source": [
    "nlp = spacy.blank(\"en\")"
   ]
  },
  {
   "cell_type": "code",
   "execution_count": 3,
   "id": "742a16e2",
   "metadata": {},
   "outputs": [],
   "source": [
    "doc = nlp(\"what if this that , what if this that \")"
   ]
  },
  {
   "cell_type": "code",
   "execution_count": 4,
   "id": "90369732",
   "metadata": {},
   "outputs": [
    {
     "name": "stdout",
     "output_type": "stream",
     "text": [
      "what\n",
      "if\n",
      "this\n",
      "that\n",
      ",\n",
      "what\n",
      "if\n",
      "this\n",
      "that\n"
     ]
    }
   ],
   "source": [
    "for token in doc:\n",
    "    print(token)"
   ]
  },
  {
   "cell_type": "code",
   "execution_count": 5,
   "id": "ddf42ecd",
   "metadata": {},
   "outputs": [],
   "source": [
    "import nltk "
   ]
  },
  {
   "cell_type": "code",
   "execution_count": 6,
   "id": "ff4c3f8f",
   "metadata": {},
   "outputs": [],
   "source": [
    "from nltk import PorterStemmer"
   ]
  },
  {
   "cell_type": "code",
   "execution_count": 13,
   "id": "a5101ec4",
   "metadata": {},
   "outputs": [],
   "source": [
    "stemmer = PorterStemmer()"
   ]
  },
  {
   "cell_type": "code",
   "execution_count": 14,
   "id": "efa51d20",
   "metadata": {},
   "outputs": [],
   "source": [
    "words = [\"eating\",\"eats\",\"eat\",\"ate\",\"adjustable\",\"rafting\",\"ability\",\"meeting\"]\n"
   ]
  },
  {
   "cell_type": "code",
   "execution_count": 15,
   "id": "198d27ae",
   "metadata": {},
   "outputs": [
    {
     "name": "stdout",
     "output_type": "stream",
     "text": [
      "eating | eat\n",
      "eats | eat\n",
      "eat | eat\n",
      "ate | ate\n",
      "adjustable | adjust\n",
      "rafting | raft\n",
      "ability | abil\n",
      "meeting | meet\n"
     ]
    }
   ],
   "source": [
    "for word in words:\n",
    "    print(word,\"|\",stemmer.stem(word))"
   ]
  },
  {
   "cell_type": "code",
   "execution_count": 16,
   "id": "4eb354bc",
   "metadata": {},
   "outputs": [],
   "source": [
    "# stemmer dosn't have the knowledge of a language "
   ]
  },
  {
   "cell_type": "code",
   "execution_count": 17,
   "id": "9e9610e7",
   "metadata": {},
   "outputs": [],
   "source": [
    "# ability -- abil simply mean it has some fixed rules onto which it is operating "
   ]
  },
  {
   "cell_type": "code",
   "execution_count": 18,
   "id": "3bcca7a6",
   "metadata": {},
   "outputs": [],
   "source": [
    "nlp = spacy.load(\"en_core_web_sm\")"
   ]
  },
  {
   "cell_type": "code",
   "execution_count": 25,
   "id": "75ada3c1",
   "metadata": {},
   "outputs": [],
   "source": [
    "doc = nlp(\"what if this that , what if this that \")\n",
    "doc1 = nlp(\"eating eats eat ate adjustable rafting ability meeting\")"
   ]
  },
  {
   "cell_type": "code",
   "execution_count": 26,
   "id": "1359a682",
   "metadata": {},
   "outputs": [
    {
     "name": "stdout",
     "output_type": "stream",
     "text": [
      "what | what\n",
      "if | if\n",
      "this | this\n",
      "that | that\n",
      ", | ,\n",
      "what | what\n",
      "if | if\n",
      "this | this\n",
      "that | that\n"
     ]
    }
   ],
   "source": [
    "for token in doc :\n",
    "    print(token , \"|\",token.lemma_)"
   ]
  },
  {
   "cell_type": "code",
   "execution_count": 27,
   "id": "b56fae3e",
   "metadata": {},
   "outputs": [
    {
     "name": "stdout",
     "output_type": "stream",
     "text": [
      "eating | eat\n",
      "eats | eat\n",
      "eat | eat\n",
      "ate | eat\n",
      "adjustable | adjustable\n",
      "rafting | raft\n",
      "ability | ability\n",
      "meeting | meeting\n"
     ]
    }
   ],
   "source": [
    "for token in doc1:\n",
    "    print(token , \"|\", token .lemma_)"
   ]
  },
  {
   "cell_type": "code",
   "execution_count": 28,
   "id": "e191cb10",
   "metadata": {},
   "outputs": [],
   "source": [
    "#lemmatization makes it more meaningful "
   ]
  },
  {
   "cell_type": "code",
   "execution_count": null,
   "id": "3788ef71",
   "metadata": {},
   "outputs": [],
   "source": []
  }
 ],
 "metadata": {
  "kernelspec": {
   "display_name": "Python 3 (ipykernel)",
   "language": "python",
   "name": "python3"
  },
  "language_info": {
   "codemirror_mode": {
    "name": "ipython",
    "version": 3
   },
   "file_extension": ".py",
   "mimetype": "text/x-python",
   "name": "python",
   "nbconvert_exporter": "python",
   "pygments_lexer": "ipython3",
   "version": "3.9.13"
  }
 },
 "nbformat": 4,
 "nbformat_minor": 5
}
